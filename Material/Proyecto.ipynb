{
 "cells": [
  {
   "cell_type": "markdown",
   "id": "4f9c71a3",
   "metadata": {},
   "source": [
    "Primer empleo"
   ]
  },
  {
   "cell_type": "code",
   "execution_count": null,
   "id": "709694c0",
   "metadata": {},
   "outputs": [],
   "source": [
    "\n",
    "import numpy \n",
    "import pandas as pd\n",
    "import matplotlib.pyplot as plt\n",
    "import seaborn as sns \n",
    "from xlsxwriter import Workbook\n",
    "\n",
    "plt.figure(figsize=(15,30))\n",
    "import warnings\n",
    "warnings.filterwarnings('ignore')\n",
    "\n",
    "%matplotlib inline \n",
    "\n",
    "path=r'Datos.xlsx'"
   ]
  },
  {
   "cell_type": "markdown",
   "id": "33c6d2de",
   "metadata": {},
   "source": [
    "# Cargue y lectura de los datos"
   ]
  },
  {
   "cell_type": "code",
   "execution_count": null,
   "id": "bc04c2f0",
   "metadata": {},
   "outputs": [],
   "source": [
    "data = pd.read_csv('empleo.csv')"
   ]
  },
  {
   "cell_type": "markdown",
   "id": "b8488c6c",
   "metadata": {},
   "source": [
    "# Encabezado de datos"
   ]
  },
  {
   "cell_type": "code",
   "execution_count": null,
   "id": "365b0874",
   "metadata": {},
   "outputs": [],
   "source": [
    "data.head()"
   ]
  },
  {
   "cell_type": "markdown",
   "id": "30913e6d",
   "metadata": {},
   "source": [
    "# ver valores nulos"
   ]
  },
  {
   "cell_type": "code",
   "execution_count": null,
   "id": "d2c43358",
   "metadata": {},
   "outputs": [],
   "source": [
    "data.isnull().sum()"
   ]
  },
  {
   "cell_type": "markdown",
   "id": "dedc80a4",
   "metadata": {},
   "source": [
    "# Encontrar quienes estan en primer empleo en la base de datos\n"
   ]
  },
  {
   "cell_type": "code",
   "execution_count": null,
   "id": "faff0a6f",
   "metadata": {},
   "outputs": [],
   "source": [
    "data['Situación Laboral']=='Primer Empleo'"
   ]
  },
  {
   "cell_type": "markdown",
   "id": "01631ccb",
   "metadata": {},
   "source": [
    "# verificando la informacion"
   ]
  },
  {
   "cell_type": "code",
   "execution_count": null,
   "id": "f4ce24e0",
   "metadata": {},
   "outputs": [],
   "source": [
    "data[data['Situación Laboral']=='Primer Empleo']"
   ]
  },
  {
   "cell_type": "markdown",
   "id": "877bd075",
   "metadata": {},
   "source": [
    "# Creando nuevo dataframe"
   ]
  },
  {
   "cell_type": "code",
   "execution_count": null,
   "id": "eb69d1b1",
   "metadata": {},
   "outputs": [],
   "source": [
    "newdata=data.copy"
   ]
  },
  {
   "cell_type": "markdown",
   "id": "ccd97a55",
   "metadata": {},
   "source": [
    "#Guardando datos filtrados en el nuevo dataframe "
   ]
  },
  {
   "cell_type": "code",
   "execution_count": null,
   "id": "1f46f591",
   "metadata": {},
   "outputs": [],
   "source": [
    "ndata=data[data['Situación Laboral']=='Primer Empleo']"
   ]
  },
  {
   "cell_type": "markdown",
   "id": "0a2d3057",
   "metadata": {},
   "source": [
    "Renombrar encabezados"
   ]
  },
  {
   "cell_type": "code",
   "execution_count": null,
   "id": "242ce079",
   "metadata": {},
   "outputs": [],
   "source": [
    "mdatos =ndata.rename (columns={\n",
    "    \"Tipo Documento\" :\"Tipo_Documento\",\n",
    "    \"Canal de Registro\":\"Canal_Registro\",\n",
    "    \"Edad\":\"Edad\",\n",
    "    'Género': 'Genero',\n",
    "    \"Nivel de Estudio\": \"Nivel_Estudio\",\n",
    "    'Título Homologado' :'Titulo_Homologado',\n",
    "    'Ciudad de Residencia':'Ciudad_Residencia',\n",
    "    'Fecha Registro':'Fecha_Registro',\n",
    "    'Programa de Gobierno':'Programa_Gobierno',\n",
    "    'Condiciones Especiales':'Condiciones_Especiales',\n",
    "    'Situación Laboral':'Situación_Laboral',\n",
    "    'Fecha Actualización':'Fecha_Actualizacion',\n",
    "    'Zona':'Zona',\n",
    "    'Mes':'Mes',\n",
    "    'Año':\"anio\",\n",
    "    'Punto Atención':'Punto_Atencion',\n",
    "    'Rango Edad':'Rango_Edad'\n",
    "})\n",
    "\n",
    "mdatos.columns"
   ]
  },
  {
   "cell_type": "markdown",
   "id": "f59b1c1d",
   "metadata": {},
   "source": [
    "Guardar en xlsx"
   ]
  },
  {
   "cell_type": "code",
   "execution_count": null,
   "id": "a8a129e4",
   "metadata": {},
   "outputs": [],
   "source": [
    "'''writer = pd.ExcelWriter(path, engine = 'xlsxwriter')\n",
    "ndata.to_excel(writer, sheet_name = 'Dframe')\n",
    "writer.save()\n",
    "writer.close()\n",
    "\n",
    "print(ndata.columns)'''"
   ]
  },
  {
   "cell_type": "markdown",
   "id": "2d4173d3",
   "metadata": {},
   "source": [
    "# Grafica de porcentaje por Genero"
   ]
  },
  {
   "cell_type": "code",
   "execution_count": null,
   "id": "8910fc44",
   "metadata": {},
   "outputs": [],
   "source": [
    "mdatos.Genero.value_counts().plot.pie(explode =[0,0.1] , shadow =True,startangle=90)\n",
    "plt.title('Contratacion por Genero')\n",
    "plt.show()\n"
   ]
  },
  {
   "cell_type": "markdown",
   "id": "21cd6900",
   "metadata": {},
   "source": [
    "En la grafica anterior podemos apreciar que el numero de mujeres atendidas y consuguieron empleo estos dos ultimos años fue mayor al numero de hombres  ."
   ]
  },
  {
   "cell_type": "code",
   "execution_count": null,
   "id": "22135d92",
   "metadata": {},
   "outputs": [],
   "source": [
    "valor_porcarrera = mdatos.groupby(\"Nivel_Estudio\")[\"Tipo_Documento\"].count()\n",
    "valor_porcarrera.head(20).plot.barh(edgecolor='black')\n",
    "plt.figure(figsize=(40,10))\n",
    "plt.show()"
   ]
  },
  {
   "cell_type": "markdown",
   "id": "bc93811a",
   "metadata": {},
   "source": [
    "Grafico de personas empleadass organizadass por su nivel de estudios , se encuntra agrupada con la informacion de estos dos ultimos años de pandemia (2020 - 2021)"
   ]
  },
  {
   "cell_type": "markdown",
   "id": "b6fbd8f8",
   "metadata": {},
   "source": [
    "# creacion de dataframe para cada año de pandemia "
   ]
  },
  {
   "cell_type": "code",
   "execution_count": null,
   "id": "e1887752",
   "metadata": {},
   "outputs": [],
   "source": [
    "\n",
    "anio2021=mdatos[mdatos['anio']==\"2,021\"]\n",
    "anio2020=mdatos[mdatos['anio']==\"2,020\"]\n"
   ]
  },
  {
   "cell_type": "code",
   "execution_count": null,
   "id": "df11a233",
   "metadata": {},
   "outputs": [],
   "source": [
    "f , ax =plt.subplots(1,2, figsize =(18,8))\n",
    "mdatos['anio'].value_counts().plot.pie(explode =[0,0.1] ,ax =ax [0], shadow =True,startangle=90,)\n",
    "ax[0].set_title('Atencion por año')\n",
    "plt.show()\n"
   ]
  },
  {
   "cell_type": "markdown",
   "metadata": {},
   "source": [
    "# Histograma por año 2020 y 2021 sobre personas contratadas durante cada mes de cada año"
   ]
  },
  {
   "cell_type": "code",
   "execution_count": null,
   "id": "4d224229",
   "metadata": {},
   "outputs": [],
   "source": [
    "anio2020.Mes.plot.hist(edgecolor='black',color='Green')\n",
    "plt.title ('Empleabilidad en el año 2020')\n",
    "plt.xlabel('Meses')\n",
    "plt.ylabel('')\n",
    "plt.show"
   ]
  },
  {
   "cell_type": "code",
   "execution_count": null,
   "metadata": {},
   "outputs": [],
   "source": [
    "anio2021.Mes.plot.hist(edgecolor='black',color='Green')\n",
    "plt.title ('Empleabilidad en el año 2021')\n",
    "plt.xlabel('Meses')\n",
    "plt.ylabel('')\n",
    "plt.show"
   ]
  },
  {
   "cell_type": "code",
   "execution_count": null,
   "id": "3107a1ef",
   "metadata": {},
   "outputs": [],
   "source": []
  }
 ],
 "metadata": {
  "kernelspec": {
   "display_name": "Python 3 (ipykernel)",
   "language": "python",
   "name": "python3"
  },
  "language_info": {
   "codemirror_mode": {
    "name": "ipython",
    "version": 3
   },
   "file_extension": ".py",
   "mimetype": "text/x-python",
   "name": "python",
   "nbconvert_exporter": "python",
   "pygments_lexer": "ipython3",
   "version": "3.9.7"
  }
 },
 "nbformat": 4,
 "nbformat_minor": 5
}
