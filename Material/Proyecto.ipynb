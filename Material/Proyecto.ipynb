{
 "cells": [
  {
   "cell_type": "markdown",
   "id": "4f9c71a3",
   "metadata": {},
   "source": [
    "Primer empleo"
   ]
  },
  {
   "cell_type": "code",
   "execution_count": 144,
   "id": "709694c0",
   "metadata": {},
   "outputs": [],
   "source": [
    "\n",
    "import numpy \n",
    "import pandas as pd\n",
    "import matplotlib.pyplot as plt\n",
    "import seaborn as sns \n",
    "from xlsxwriter import Workbook\n",
    "\n",
    "plt.figure(figsize=(15,30))\n",
    "import warnings\n",
    "warnings.filterwarnings('ignore')\n",
    "\n",
    "%matplotlib inline \n",
    "\n",
    "path=r'Datos.xlsx'\n",
    "\n",
    "font1 = {'family':'Comic Sans MS','size':20}\n",
    "font2 = {'family':'Comic Sans MS','color':'darkred','size':15}"
   ]
  },
  {
   "cell_type": "markdown",
   "id": "33c6d2de",
   "metadata": {},
   "source": [
    "# Cargue y lectura de los datos"
   ]
  },
  {
   "cell_type": "code",
   "execution_count": 145,
   "id": "bc04c2f0",
   "metadata": {},
   "outputs": [],
   "source": [
    "data = pd.read_csv('empleo.csv')"
   ]
  },
  {
   "cell_type": "markdown",
   "id": "b8488c6c",
   "metadata": {},
   "source": [
    "# Encabezado de datos"
   ]
  },
  {
   "cell_type": "code",
   "execution_count": 146,
   "id": "365b0874",
   "metadata": {},
   "outputs": [
    {
     "data": {
      "text/html": [
       "<div>\n",
       "<style scoped>\n",
       "    .dataframe tbody tr th:only-of-type {\n",
       "        vertical-align: middle;\n",
       "    }\n",
       "\n",
       "    .dataframe tbody tr th {\n",
       "        vertical-align: top;\n",
       "    }\n",
       "\n",
       "    .dataframe thead th {\n",
       "        text-align: right;\n",
       "    }\n",
       "</style>\n",
       "<table border=\"1\" class=\"dataframe\">\n",
       "  <thead>\n",
       "    <tr style=\"text-align: right;\">\n",
       "      <th></th>\n",
       "      <th>Tipo Documento</th>\n",
       "      <th>Canal de Registro</th>\n",
       "      <th>Edad</th>\n",
       "      <th>Género</th>\n",
       "      <th>Nivel de Estudio</th>\n",
       "      <th>Título Homologado</th>\n",
       "      <th>Ciudad de Residencia</th>\n",
       "      <th>Fecha Registro</th>\n",
       "      <th>Programa de Gobierno</th>\n",
       "      <th>Condiciones Especiales</th>\n",
       "      <th>Situación Laboral</th>\n",
       "      <th>Fecha Actualización</th>\n",
       "      <th>Zona</th>\n",
       "      <th>Mes</th>\n",
       "      <th>Año</th>\n",
       "      <th>Punto Atención</th>\n",
       "      <th>Rango Edad</th>\n",
       "    </tr>\n",
       "  </thead>\n",
       "  <tbody>\n",
       "    <tr>\n",
       "      <th>0</th>\n",
       "      <td>Cédula de Ciudadanía</td>\n",
       "      <td>Agencia</td>\n",
       "      <td>39</td>\n",
       "      <td>F</td>\n",
       "      <td>Media(10-13)</td>\n",
       "      <td>BACHILLER ACADÉMICO</td>\n",
       "      <td>BARRANQUILLA</td>\n",
       "      <td>03/01/2020 02:22:50 p.m.</td>\n",
       "      <td>NaN</td>\n",
       "      <td>NaN</td>\n",
       "      <td>Desempleado</td>\n",
       "      <td>03/01/2020 02:22:50 p.m.</td>\n",
       "      <td>Urbano</td>\n",
       "      <td>1</td>\n",
       "      <td>2,020</td>\n",
       "      <td>Barrios Modelo</td>\n",
       "      <td>29 - 39</td>\n",
       "    </tr>\n",
       "    <tr>\n",
       "      <th>1</th>\n",
       "      <td>Cédula de Ciudadanía</td>\n",
       "      <td>Agencia</td>\n",
       "      <td>40</td>\n",
       "      <td>F</td>\n",
       "      <td>Universitaria</td>\n",
       "      <td>ENFERMERA</td>\n",
       "      <td>BARRANQUILLA</td>\n",
       "      <td>07/01/2020 08:29:56 a.m.</td>\n",
       "      <td>NaN</td>\n",
       "      <td>NaN</td>\n",
       "      <td>Desempleado</td>\n",
       "      <td>07/01/2020 08:29:56 a.m.</td>\n",
       "      <td>Urbano</td>\n",
       "      <td>1</td>\n",
       "      <td>2,020</td>\n",
       "      <td>Barrios Modelo</td>\n",
       "      <td>40 - 50</td>\n",
       "    </tr>\n",
       "    <tr>\n",
       "      <th>2</th>\n",
       "      <td>Cédula de Ciudadanía</td>\n",
       "      <td>Agencia</td>\n",
       "      <td>24</td>\n",
       "      <td>M</td>\n",
       "      <td>Técnica Profesional</td>\n",
       "      <td>OPERACIÓN DE PROCESOS INDUSTRIALES</td>\n",
       "      <td>BARRANQUILLA</td>\n",
       "      <td>07/01/2020 10:23:32 a.m.</td>\n",
       "      <td>NaN</td>\n",
       "      <td>NaN</td>\n",
       "      <td>Primer Empleo</td>\n",
       "      <td>07/01/2020 10:23:32 a.m.</td>\n",
       "      <td>Urbano</td>\n",
       "      <td>1</td>\n",
       "      <td>2,020</td>\n",
       "      <td>Barrios Modelo</td>\n",
       "      <td>18 - 28</td>\n",
       "    </tr>\n",
       "    <tr>\n",
       "      <th>3</th>\n",
       "      <td>Cédula de Ciudadanía</td>\n",
       "      <td>Agencia</td>\n",
       "      <td>22</td>\n",
       "      <td>M</td>\n",
       "      <td>Media(10-13)</td>\n",
       "      <td>BACHILLER ACADEMICO</td>\n",
       "      <td>BARRANQUILLA</td>\n",
       "      <td>07/01/2020 11:04:52 a.m.</td>\n",
       "      <td>NaN</td>\n",
       "      <td>NaN</td>\n",
       "      <td>Desempleado</td>\n",
       "      <td>07/01/2020 11:04:52 a.m.</td>\n",
       "      <td>Urbano</td>\n",
       "      <td>1</td>\n",
       "      <td>2,020</td>\n",
       "      <td>Barrios Modelo</td>\n",
       "      <td>18 - 28</td>\n",
       "    </tr>\n",
       "    <tr>\n",
       "      <th>4</th>\n",
       "      <td>Cédula de Ciudadanía</td>\n",
       "      <td>Agencia</td>\n",
       "      <td>23</td>\n",
       "      <td>F</td>\n",
       "      <td>Universitaria</td>\n",
       "      <td>INGENIERA AMBIENTAL</td>\n",
       "      <td>BARRANQUILLA</td>\n",
       "      <td>09/01/2020 09:48:22 a.m.</td>\n",
       "      <td>NaN</td>\n",
       "      <td>NaN</td>\n",
       "      <td>Desempleado</td>\n",
       "      <td>09/01/2020 09:48:22 a.m.</td>\n",
       "      <td>Urbano</td>\n",
       "      <td>1</td>\n",
       "      <td>2,020</td>\n",
       "      <td>Barrios Modelo</td>\n",
       "      <td>18 - 28</td>\n",
       "    </tr>\n",
       "  </tbody>\n",
       "</table>\n",
       "</div>"
      ],
      "text/plain": [
       "         Tipo Documento Canal de Registro  Edad Género     Nivel de Estudio  \\\n",
       "0  Cédula de Ciudadanía           Agencia    39      F         Media(10-13)   \n",
       "1  Cédula de Ciudadanía           Agencia    40      F        Universitaria   \n",
       "2  Cédula de Ciudadanía           Agencia    24      M  Técnica Profesional   \n",
       "3  Cédula de Ciudadanía           Agencia    22      M         Media(10-13)   \n",
       "4  Cédula de Ciudadanía           Agencia    23      F        Universitaria   \n",
       "\n",
       "                    Título Homologado Ciudad de Residencia  \\\n",
       "0                 BACHILLER ACADÉMICO         BARRANQUILLA   \n",
       "1                           ENFERMERA         BARRANQUILLA   \n",
       "2  OPERACIÓN DE PROCESOS INDUSTRIALES         BARRANQUILLA   \n",
       "3                 BACHILLER ACADEMICO         BARRANQUILLA   \n",
       "4                 INGENIERA AMBIENTAL         BARRANQUILLA   \n",
       "\n",
       "             Fecha Registro Programa de Gobierno Condiciones Especiales  \\\n",
       "0  03/01/2020 02:22:50 p.m.                  NaN                    NaN   \n",
       "1  07/01/2020 08:29:56 a.m.                  NaN                    NaN   \n",
       "2  07/01/2020 10:23:32 a.m.                  NaN                    NaN   \n",
       "3  07/01/2020 11:04:52 a.m.                  NaN                    NaN   \n",
       "4  09/01/2020 09:48:22 a.m.                  NaN                    NaN   \n",
       "\n",
       "  Situación Laboral       Fecha Actualización    Zona  Mes    Año  \\\n",
       "0       Desempleado  03/01/2020 02:22:50 p.m.  Urbano    1  2,020   \n",
       "1       Desempleado  07/01/2020 08:29:56 a.m.  Urbano    1  2,020   \n",
       "2     Primer Empleo  07/01/2020 10:23:32 a.m.  Urbano    1  2,020   \n",
       "3       Desempleado  07/01/2020 11:04:52 a.m.  Urbano    1  2,020   \n",
       "4       Desempleado  09/01/2020 09:48:22 a.m.  Urbano    1  2,020   \n",
       "\n",
       "   Punto Atención Rango Edad  \n",
       "0  Barrios Modelo    29 - 39  \n",
       "1  Barrios Modelo    40 - 50  \n",
       "2  Barrios Modelo    18 - 28  \n",
       "3  Barrios Modelo    18 - 28  \n",
       "4  Barrios Modelo    18 - 28  "
      ]
     },
     "execution_count": 146,
     "metadata": {},
     "output_type": "execute_result"
    }
   ],
   "source": [
    "data.head()"
   ]
  },
  {
   "cell_type": "markdown",
   "id": "30913e6d",
   "metadata": {},
   "source": [
    "# ver valores nulos"
   ]
  },
  {
   "cell_type": "code",
   "execution_count": 147,
   "id": "d2c43358",
   "metadata": {},
   "outputs": [
    {
     "data": {
      "text/plain": [
       "Tipo Documento                0\n",
       "Canal de Registro             0\n",
       "Edad                          0\n",
       "Género                        0\n",
       "Nivel de Estudio            372\n",
       "Título Homologado           375\n",
       "Ciudad de Residencia          5\n",
       "Fecha Registro                0\n",
       "Programa de Gobierno      16217\n",
       "Condiciones Especiales    16558\n",
       "Situación Laboral             5\n",
       "Fecha Actualización           0\n",
       "Zona                        363\n",
       "Mes                           0\n",
       "Año                           0\n",
       "Punto Atención                0\n",
       "Rango Edad                    0\n",
       "dtype: int64"
      ]
     },
     "execution_count": 147,
     "metadata": {},
     "output_type": "execute_result"
    }
   ],
   "source": [
    "data.isnull().sum()"
   ]
  },
  {
   "cell_type": "markdown",
   "id": "dedc80a4",
   "metadata": {},
   "source": [
    "# Encontrar quienes estan en primer empleo en la base de datos\n"
   ]
  },
  {
   "cell_type": "code",
   "execution_count": 148,
   "id": "faff0a6f",
   "metadata": {},
   "outputs": [
    {
     "data": {
      "text/plain": [
       "0        False\n",
       "1        False\n",
       "2         True\n",
       "3        False\n",
       "4        False\n",
       "         ...  \n",
       "17215     True\n",
       "17216    False\n",
       "17217    False\n",
       "17218    False\n",
       "17219    False\n",
       "Name: Situación Laboral, Length: 17220, dtype: bool"
      ]
     },
     "execution_count": 148,
     "metadata": {},
     "output_type": "execute_result"
    }
   ],
   "source": [
    "data['Situación Laboral']=='Primer Empleo'"
   ]
  },
  {
   "cell_type": "markdown",
   "id": "01631ccb",
   "metadata": {},
   "source": [
    "# verificando la informacion"
   ]
  },
  {
   "cell_type": "code",
   "execution_count": 149,
   "id": "f4ce24e0",
   "metadata": {},
   "outputs": [
    {
     "data": {
      "text/html": [
       "<div>\n",
       "<style scoped>\n",
       "    .dataframe tbody tr th:only-of-type {\n",
       "        vertical-align: middle;\n",
       "    }\n",
       "\n",
       "    .dataframe tbody tr th {\n",
       "        vertical-align: top;\n",
       "    }\n",
       "\n",
       "    .dataframe thead th {\n",
       "        text-align: right;\n",
       "    }\n",
       "</style>\n",
       "<table border=\"1\" class=\"dataframe\">\n",
       "  <thead>\n",
       "    <tr style=\"text-align: right;\">\n",
       "      <th></th>\n",
       "      <th>Tipo Documento</th>\n",
       "      <th>Canal de Registro</th>\n",
       "      <th>Edad</th>\n",
       "      <th>Género</th>\n",
       "      <th>Nivel de Estudio</th>\n",
       "      <th>Título Homologado</th>\n",
       "      <th>Ciudad de Residencia</th>\n",
       "      <th>Fecha Registro</th>\n",
       "      <th>Programa de Gobierno</th>\n",
       "      <th>Condiciones Especiales</th>\n",
       "      <th>Situación Laboral</th>\n",
       "      <th>Fecha Actualización</th>\n",
       "      <th>Zona</th>\n",
       "      <th>Mes</th>\n",
       "      <th>Año</th>\n",
       "      <th>Punto Atención</th>\n",
       "      <th>Rango Edad</th>\n",
       "    </tr>\n",
       "  </thead>\n",
       "  <tbody>\n",
       "    <tr>\n",
       "      <th>2</th>\n",
       "      <td>Cédula de Ciudadanía</td>\n",
       "      <td>Agencia</td>\n",
       "      <td>24</td>\n",
       "      <td>M</td>\n",
       "      <td>Técnica Profesional</td>\n",
       "      <td>OPERACIÓN DE PROCESOS INDUSTRIALES</td>\n",
       "      <td>BARRANQUILLA</td>\n",
       "      <td>07/01/2020 10:23:32 a.m.</td>\n",
       "      <td>NaN</td>\n",
       "      <td>NaN</td>\n",
       "      <td>Primer Empleo</td>\n",
       "      <td>07/01/2020 10:23:32 a.m.</td>\n",
       "      <td>Urbano</td>\n",
       "      <td>1</td>\n",
       "      <td>2,020</td>\n",
       "      <td>Barrios Modelo</td>\n",
       "      <td>18 - 28</td>\n",
       "    </tr>\n",
       "    <tr>\n",
       "      <th>13</th>\n",
       "      <td>Cédula de Ciudadanía</td>\n",
       "      <td>Agencia</td>\n",
       "      <td>17</td>\n",
       "      <td>M</td>\n",
       "      <td>Técnica Laboral</td>\n",
       "      <td>tecnico laborar por competencias auxiliar de g...</td>\n",
       "      <td>BARRANQUILLA</td>\n",
       "      <td>08/01/2020 10:58:00 a.m.</td>\n",
       "      <td>NaN</td>\n",
       "      <td>NaN</td>\n",
       "      <td>Primer Empleo</td>\n",
       "      <td>08/01/2020 10:58:00 a.m.</td>\n",
       "      <td>Urbano</td>\n",
       "      <td>1</td>\n",
       "      <td>2,020</td>\n",
       "      <td>Barrios Modelo</td>\n",
       "      <td>MENOR DE EDAD</td>\n",
       "    </tr>\n",
       "    <tr>\n",
       "      <th>27</th>\n",
       "      <td>Cédula de Ciudadanía</td>\n",
       "      <td>Autoregistro</td>\n",
       "      <td>21</td>\n",
       "      <td>F</td>\n",
       "      <td>Media(10-13)</td>\n",
       "      <td>Media</td>\n",
       "      <td>SOLEDAD</td>\n",
       "      <td>15/01/2020 07:47:12 p.m.</td>\n",
       "      <td>NaN</td>\n",
       "      <td>NaN</td>\n",
       "      <td>Primer Empleo</td>\n",
       "      <td>15/01/2020 07:47:12 p.m.</td>\n",
       "      <td>Urbano</td>\n",
       "      <td>1</td>\n",
       "      <td>2,020</td>\n",
       "      <td>Barrios Modelo</td>\n",
       "      <td>18 - 28</td>\n",
       "    </tr>\n",
       "    <tr>\n",
       "      <th>33</th>\n",
       "      <td>Cédula de Ciudadanía</td>\n",
       "      <td>Autoregistro</td>\n",
       "      <td>23</td>\n",
       "      <td>M</td>\n",
       "      <td>Universitaria</td>\n",
       "      <td>Psicólogo</td>\n",
       "      <td>BARRANQUILLA</td>\n",
       "      <td>17/01/2020 06:15:41 p.m.</td>\n",
       "      <td>NaN</td>\n",
       "      <td>NaN</td>\n",
       "      <td>Primer Empleo</td>\n",
       "      <td>17/01/2020 06:15:41 p.m.</td>\n",
       "      <td>Urbano</td>\n",
       "      <td>1</td>\n",
       "      <td>2,020</td>\n",
       "      <td>Barrios Modelo</td>\n",
       "      <td>18 - 28</td>\n",
       "    </tr>\n",
       "    <tr>\n",
       "      <th>40</th>\n",
       "      <td>Cédula de Ciudadanía</td>\n",
       "      <td>Agencia</td>\n",
       "      <td>23</td>\n",
       "      <td>F</td>\n",
       "      <td>Media(10-13)</td>\n",
       "      <td>BACHILLER ACADEMICO</td>\n",
       "      <td>BARRANQUILLA</td>\n",
       "      <td>22/01/2020 02:48:08 p.m.</td>\n",
       "      <td>NaN</td>\n",
       "      <td>NaN</td>\n",
       "      <td>Primer Empleo</td>\n",
       "      <td>22/01/2020 02:48:08 p.m.</td>\n",
       "      <td>Urbano</td>\n",
       "      <td>1</td>\n",
       "      <td>2,020</td>\n",
       "      <td>Barrios Modelo</td>\n",
       "      <td>18 - 28</td>\n",
       "    </tr>\n",
       "    <tr>\n",
       "      <th>...</th>\n",
       "      <td>...</td>\n",
       "      <td>...</td>\n",
       "      <td>...</td>\n",
       "      <td>...</td>\n",
       "      <td>...</td>\n",
       "      <td>...</td>\n",
       "      <td>...</td>\n",
       "      <td>...</td>\n",
       "      <td>...</td>\n",
       "      <td>...</td>\n",
       "      <td>...</td>\n",
       "      <td>...</td>\n",
       "      <td>...</td>\n",
       "      <td>...</td>\n",
       "      <td>...</td>\n",
       "      <td>...</td>\n",
       "      <td>...</td>\n",
       "    </tr>\n",
       "    <tr>\n",
       "      <th>17148</th>\n",
       "      <td>Cédula de Ciudadanía</td>\n",
       "      <td>Autoregistro</td>\n",
       "      <td>28</td>\n",
       "      <td>F</td>\n",
       "      <td>Tecnológica</td>\n",
       "      <td>TECNOLOGO EN ANÁLISIS Y DESARROLLO DE SISTEMAS...</td>\n",
       "      <td>BARRANQUILLA</td>\n",
       "      <td>23/12/2021 08:12:40 p.m.</td>\n",
       "      <td>NaN</td>\n",
       "      <td>NaN</td>\n",
       "      <td>Primer Empleo</td>\n",
       "      <td>23/12/2021 08:12:40 p.m.</td>\n",
       "      <td>Rural</td>\n",
       "      <td>12</td>\n",
       "      <td>2,021</td>\n",
       "      <td>Barrio Altos de Riomar</td>\n",
       "      <td>18 - 28</td>\n",
       "    </tr>\n",
       "    <tr>\n",
       "      <th>17171</th>\n",
       "      <td>Cédula de Ciudadanía</td>\n",
       "      <td>Autoregistro</td>\n",
       "      <td>18</td>\n",
       "      <td>F</td>\n",
       "      <td>Técnica Laboral</td>\n",
       "      <td>Técnico en Auxiliar Administrativo</td>\n",
       "      <td>BARRANQUILLA</td>\n",
       "      <td>27/12/2021 02:58:47 p.m.</td>\n",
       "      <td>NaN</td>\n",
       "      <td>NaN</td>\n",
       "      <td>Primer Empleo</td>\n",
       "      <td>27/12/2021 02:58:47 p.m.</td>\n",
       "      <td>Urbano</td>\n",
       "      <td>12</td>\n",
       "      <td>2,021</td>\n",
       "      <td>Bario 7 de abril</td>\n",
       "      <td>18 - 28</td>\n",
       "    </tr>\n",
       "    <tr>\n",
       "      <th>17176</th>\n",
       "      <td>Cédula de Ciudadanía</td>\n",
       "      <td>Autoregistro</td>\n",
       "      <td>22</td>\n",
       "      <td>F</td>\n",
       "      <td>NaN</td>\n",
       "      <td>NaN</td>\n",
       "      <td>BARRANQUILLA</td>\n",
       "      <td>27/12/2021 09:29:39 p.m.</td>\n",
       "      <td>NaN</td>\n",
       "      <td>NaN</td>\n",
       "      <td>Primer Empleo</td>\n",
       "      <td>27/12/2021 09:29:39 p.m.</td>\n",
       "      <td>Urbano</td>\n",
       "      <td>12</td>\n",
       "      <td>2,021</td>\n",
       "      <td>Barrio Altos de Riomar</td>\n",
       "      <td>18 - 28</td>\n",
       "    </tr>\n",
       "    <tr>\n",
       "      <th>17193</th>\n",
       "      <td>Cédula de Ciudadanía</td>\n",
       "      <td>Autoregistro</td>\n",
       "      <td>22</td>\n",
       "      <td>F</td>\n",
       "      <td>Universitaria</td>\n",
       "      <td>Fisioterapeuta</td>\n",
       "      <td>BARRANQUILLA</td>\n",
       "      <td>29/12/2021 08:24:46 a.m.</td>\n",
       "      <td>NaN</td>\n",
       "      <td>NaN</td>\n",
       "      <td>Primer Empleo</td>\n",
       "      <td>29/12/2021 08:24:46 a.m.</td>\n",
       "      <td>Urbano</td>\n",
       "      <td>12</td>\n",
       "      <td>2,021</td>\n",
       "      <td>Barrio Simón Bolívar</td>\n",
       "      <td>18 - 28</td>\n",
       "    </tr>\n",
       "    <tr>\n",
       "      <th>17215</th>\n",
       "      <td>Cédula de Ciudadanía</td>\n",
       "      <td>Autoregistro</td>\n",
       "      <td>18</td>\n",
       "      <td>F</td>\n",
       "      <td>Técnica Laboral</td>\n",
       "      <td>Tecnico Labarol Auxiliar Administrativo</td>\n",
       "      <td>BARRANQUILLA</td>\n",
       "      <td>30/12/2021 04:01:52 p.m.</td>\n",
       "      <td>NaN</td>\n",
       "      <td>NaN</td>\n",
       "      <td>Primer Empleo</td>\n",
       "      <td>30/12/2021 04:01:52 p.m.</td>\n",
       "      <td>Urbano</td>\n",
       "      <td>12</td>\n",
       "      <td>2,021</td>\n",
       "      <td>Bario 7 de abril</td>\n",
       "      <td>18 - 28</td>\n",
       "    </tr>\n",
       "  </tbody>\n",
       "</table>\n",
       "<p>1456 rows × 17 columns</p>\n",
       "</div>"
      ],
      "text/plain": [
       "             Tipo Documento Canal de Registro  Edad Género  \\\n",
       "2      Cédula de Ciudadanía           Agencia    24      M   \n",
       "13     Cédula de Ciudadanía           Agencia    17      M   \n",
       "27     Cédula de Ciudadanía      Autoregistro    21      F   \n",
       "33     Cédula de Ciudadanía      Autoregistro    23      M   \n",
       "40     Cédula de Ciudadanía           Agencia    23      F   \n",
       "...                     ...               ...   ...    ...   \n",
       "17148  Cédula de Ciudadanía      Autoregistro    28      F   \n",
       "17171  Cédula de Ciudadanía      Autoregistro    18      F   \n",
       "17176  Cédula de Ciudadanía      Autoregistro    22      F   \n",
       "17193  Cédula de Ciudadanía      Autoregistro    22      F   \n",
       "17215  Cédula de Ciudadanía      Autoregistro    18      F   \n",
       "\n",
       "          Nivel de Estudio                                  Título Homologado  \\\n",
       "2      Técnica Profesional                 OPERACIÓN DE PROCESOS INDUSTRIALES   \n",
       "13         Técnica Laboral  tecnico laborar por competencias auxiliar de g...   \n",
       "27            Media(10-13)                                              Media   \n",
       "33           Universitaria                                          Psicólogo   \n",
       "40            Media(10-13)                                BACHILLER ACADEMICO   \n",
       "...                    ...                                                ...   \n",
       "17148          Tecnológica  TECNOLOGO EN ANÁLISIS Y DESARROLLO DE SISTEMAS...   \n",
       "17171      Técnica Laboral                 Técnico en Auxiliar Administrativo   \n",
       "17176                  NaN                                                NaN   \n",
       "17193        Universitaria                                     Fisioterapeuta   \n",
       "17215      Técnica Laboral            Tecnico Labarol Auxiliar Administrativo   \n",
       "\n",
       "      Ciudad de Residencia            Fecha Registro Programa de Gobierno  \\\n",
       "2             BARRANQUILLA  07/01/2020 10:23:32 a.m.                  NaN   \n",
       "13            BARRANQUILLA  08/01/2020 10:58:00 a.m.                  NaN   \n",
       "27                 SOLEDAD  15/01/2020 07:47:12 p.m.                  NaN   \n",
       "33            BARRANQUILLA  17/01/2020 06:15:41 p.m.                  NaN   \n",
       "40            BARRANQUILLA  22/01/2020 02:48:08 p.m.                  NaN   \n",
       "...                    ...                       ...                  ...   \n",
       "17148         BARRANQUILLA  23/12/2021 08:12:40 p.m.                  NaN   \n",
       "17171         BARRANQUILLA  27/12/2021 02:58:47 p.m.                  NaN   \n",
       "17176         BARRANQUILLA  27/12/2021 09:29:39 p.m.                  NaN   \n",
       "17193         BARRANQUILLA  29/12/2021 08:24:46 a.m.                  NaN   \n",
       "17215         BARRANQUILLA  30/12/2021 04:01:52 p.m.                  NaN   \n",
       "\n",
       "      Condiciones Especiales Situación Laboral       Fecha Actualización  \\\n",
       "2                        NaN     Primer Empleo  07/01/2020 10:23:32 a.m.   \n",
       "13                       NaN     Primer Empleo  08/01/2020 10:58:00 a.m.   \n",
       "27                       NaN     Primer Empleo  15/01/2020 07:47:12 p.m.   \n",
       "33                       NaN     Primer Empleo  17/01/2020 06:15:41 p.m.   \n",
       "40                       NaN     Primer Empleo  22/01/2020 02:48:08 p.m.   \n",
       "...                      ...               ...                       ...   \n",
       "17148                    NaN     Primer Empleo  23/12/2021 08:12:40 p.m.   \n",
       "17171                    NaN     Primer Empleo  27/12/2021 02:58:47 p.m.   \n",
       "17176                    NaN     Primer Empleo  27/12/2021 09:29:39 p.m.   \n",
       "17193                    NaN     Primer Empleo  29/12/2021 08:24:46 a.m.   \n",
       "17215                    NaN     Primer Empleo  30/12/2021 04:01:52 p.m.   \n",
       "\n",
       "         Zona  Mes    Año          Punto Atención     Rango Edad  \n",
       "2      Urbano    1  2,020          Barrios Modelo        18 - 28  \n",
       "13     Urbano    1  2,020          Barrios Modelo  MENOR DE EDAD  \n",
       "27     Urbano    1  2,020          Barrios Modelo        18 - 28  \n",
       "33     Urbano    1  2,020          Barrios Modelo        18 - 28  \n",
       "40     Urbano    1  2,020          Barrios Modelo        18 - 28  \n",
       "...       ...  ...    ...                     ...            ...  \n",
       "17148   Rural   12  2,021  Barrio Altos de Riomar        18 - 28  \n",
       "17171  Urbano   12  2,021        Bario 7 de abril        18 - 28  \n",
       "17176  Urbano   12  2,021  Barrio Altos de Riomar        18 - 28  \n",
       "17193  Urbano   12  2,021    Barrio Simón Bolívar        18 - 28  \n",
       "17215  Urbano   12  2,021        Bario 7 de abril        18 - 28  \n",
       "\n",
       "[1456 rows x 17 columns]"
      ]
     },
     "execution_count": 149,
     "metadata": {},
     "output_type": "execute_result"
    }
   ],
   "source": [
    "data[data['Situación Laboral']=='Primer Empleo']"
   ]
  },
  {
   "cell_type": "markdown",
   "id": "877bd075",
   "metadata": {},
   "source": [
    "# Creando nuevo dataframe"
   ]
  },
  {
   "cell_type": "code",
   "execution_count": 150,
   "id": "eb69d1b1",
   "metadata": {},
   "outputs": [],
   "source": [
    "newdata=data.copy"
   ]
  },
  {
   "cell_type": "markdown",
   "id": "ccd97a55",
   "metadata": {},
   "source": [
    "#Guardando datos filtrados en el nuevo dataframe "
   ]
  },
  {
   "cell_type": "code",
   "execution_count": 151,
   "id": "1f46f591",
   "metadata": {},
   "outputs": [],
   "source": [
    "ndata=data[data['Situación Laboral']=='Primer Empleo']"
   ]
  },
  {
   "cell_type": "markdown",
   "id": "0a2d3057",
   "metadata": {},
   "source": [
    "Renombrar encabezados"
   ]
  },
  {
   "cell_type": "code",
   "execution_count": 152,
   "id": "242ce079",
   "metadata": {},
   "outputs": [
    {
     "data": {
      "text/plain": [
       "Index(['Tipo_Documento', 'Canal_Registro', 'Edad', 'Genero', 'Nivel_Estudio',\n",
       "       'Titulo_Homologado', 'Ciudad_Residencia', 'Fecha_Registro',\n",
       "       'Programa_Gobierno', 'Condiciones_Especiales', 'Situación_Laboral',\n",
       "       'Fecha_Actualizacion', 'Zona', 'Mes', 'anio', 'Punto_Atencion',\n",
       "       'Rango_Edad'],\n",
       "      dtype='object')"
      ]
     },
     "execution_count": 152,
     "metadata": {},
     "output_type": "execute_result"
    }
   ],
   "source": [
    "mdatos =ndata.rename (columns={\n",
    "    \"Tipo Documento\" :\"Tipo_Documento\",\n",
    "    \"Canal de Registro\":\"Canal_Registro\",\n",
    "    \"Edad\":\"Edad\",\n",
    "    'Género': 'Genero',\n",
    "    \"Nivel de Estudio\": \"Nivel_Estudio\",\n",
    "    'Título Homologado' :'Titulo_Homologado',\n",
    "    'Ciudad de Residencia':'Ciudad_Residencia',\n",
    "    'Fecha Registro':'Fecha_Registro',\n",
    "    'Programa de Gobierno':'Programa_Gobierno',\n",
    "    'Condiciones Especiales':'Condiciones_Especiales',\n",
    "    'Situación Laboral':'Situación_Laboral',\n",
    "    'Fecha Actualización':'Fecha_Actualizacion',\n",
    "    'Zona':'Zona',\n",
    "    'Mes':'Mes',\n",
    "    'Año':\"anio\",\n",
    "    'Punto Atención':'Punto_Atencion',\n",
    "    'Rango Edad':'Rango_Edad'\n",
    "})\n",
    "\n",
    "mdatos.columns"
   ]
  },
  {
   "cell_type": "markdown",
   "id": "f59b1c1d",
   "metadata": {},
   "source": [
    "Guardar en xlsx"
   ]
  },
  {
   "cell_type": "code",
   "execution_count": 153,
   "id": "a8a129e4",
   "metadata": {},
   "outputs": [
    {
     "data": {
      "text/plain": [
       "\"writer = pd.ExcelWriter(path, engine = 'xlsxwriter')\\nndata.to_excel(writer, sheet_name = 'Dframe')\\nwriter.save()\\nwriter.close()\\n\\nprint(ndata.columns)\""
      ]
     },
     "execution_count": 153,
     "metadata": {},
     "output_type": "execute_result"
    }
   ],
   "source": [
    "'''writer = pd.ExcelWriter(path, engine = 'xlsxwriter')\n",
    "ndata.to_excel(writer, sheet_name = 'Dframe')\n",
    "writer.save()\n",
    "writer.close()\n",
    "\n",
    "print(ndata.columns)'''"
   ]
  },
  {
   "cell_type": "markdown",
   "id": "2d4173d3",
   "metadata": {},
   "source": [
    "# Grafica de porcentaje por Genero"
   ]
  },
  {
   "cell_type": "code",
   "execution_count": 154,
   "id": "8910fc44",
   "metadata": {},
   "outputs": [
    {
     "data": {
      "image/png": "[encoded data removed]",
      "text/plain": [
       "<Figure size 432x288 with 1 Axes>"
      ]
     },
     "metadata": {},
     "output_type": "display_data"
    }
   ],
   "source": [
    "mdatos.Genero.value_counts().plot.pie(explode =[0,0.1] , shadow =True,startangle=90)\n",
    "plt.title('Contratacion por Genero',fontdict= font1)\n",
    "plt.show()\n"
   ]
  },
  {
   "cell_type": "markdown",
   "id": "21cd6900",
   "metadata": {},
   "source": [
    "En la grafica anterior podemos apreciar que el numero de mujeres atendidas y consuguieron empleo estos dos ultimos años fue mayor al numero de hombres  ."
   ]
  },
  {
   "cell_type": "code",
   "execution_count": 155,
   "id": "22135d92",
   "metadata": {},
   "outputs": [
    {
     "data": {
      "image/png": "[encoded data removed]",
      "text/plain": [
       "<Figure size 432x288 with 1 Axes>"
      ]
     },
     "metadata": {
      "needs_background": "light"
     },
     "output_type": "display_data"
    },
    {
     "data": {
      "text/plain": [
       "<Figure size 2880x720 with 0 Axes>"
      ]
     },
     "metadata": {},
     "output_type": "display_data"
    }
   ],
   "source": [
    "valor_porcarrera = mdatos.groupby(\"Nivel_Estudio\")[\"Tipo_Documento\"].count()\n",
    "valor_porcarrera.head(20).plot.barh(edgecolor='black')\n",
    "plt.figure(figsize=(40,10))\n",
    "plt.show()"
   ]
  },
  {
   "cell_type": "markdown",
   "id": "bc93811a",
   "metadata": {},
   "source": [
    "Grafico de personas empleadass organizadass por su nivel de estudios , se encuntra agrupada con la informacion de estos dos ultimos años de pandemia (2020 - 2021)"
   ]
  },
  {
   "cell_type": "markdown",
   "id": "b6fbd8f8",
   "metadata": {},
   "source": [
    "# creacion de dataframe para cada año de pandemia "
   ]
  },
  {
   "cell_type": "code",
   "execution_count": 156,
   "id": "e1887752",
   "metadata": {},
   "outputs": [],
   "source": [
    "\n",
    "anio2021=mdatos[mdatos['anio']==\"2,021\"]\n",
    "anio2020=mdatos[mdatos['anio']==\"2,020\"]\n"
   ]
  },
  {
   "cell_type": "code",
   "execution_count": 161,
   "id": "df11a233",
   "metadata": {},
   "outputs": [
    {
     "data": {
      "image/png": "[encoded data removed]",
      "text/plain": [
       "<Figure size 1296x576 with 2 Axes>"
      ]
     },
     "metadata": {
      "needs_background": "light"
     },
     "output_type": "display_data"
    }
   ],
   "source": [
    "f , ax =plt.subplots(1,2, figsize =(18,8))\n",
    "mdatos['anio'].value_counts().plot.pie(explode =[0,0.1] ,ax =ax [0], shadow =True,startangle=90,)\n",
    "ax[0].set_title('Atencion por año',fontdict= font1)\n",
    "plt.show()\n"
   ]
  },
  {
   "cell_type": "markdown",
   "metadata": {},
   "source": [
    "# Histograma por año 2020 y 2021 sobre personas contratadas durante cada mes de cada año"
   ]
  },
  {
   "cell_type": "code",
   "execution_count": 158,
   "id": "4d224229",
   "metadata": {},
   "outputs": [
    {
     "data": {
      "text/plain": [
       "<function matplotlib.pyplot.show(close=None, block=None)>"
      ]
     },
     "execution_count": 158,
     "metadata": {},
     "output_type": "execute_result"
    },
    {
     "data": {
      "image/png": "[encoded data removed]",
      "text/plain": [
       "<Figure size 432x288 with 1 Axes>"
      ]
     },
     "metadata": {
      "needs_background": "light"
     },
     "output_type": "display_data"
    }
   ],
   "source": [
    "\n",
    "\n",
    "anio2020.Mes.plot.hist(edgecolor='black',color='Green')\n",
    "plt.title ('Empleabilidad en el año 2021',fontdict = font1)\n",
    "plt.xlabel('Meses', fontdict = font2)\n",
    "plt.ylabel('')\n",
    "plt.show"
   ]
  },
  {
   "cell_type": "code",
   "execution_count": 159,
   "metadata": {},
   "outputs": [
    {
     "data": {
      "text/plain": [
       "<function matplotlib.pyplot.show(close=None, block=None)>"
      ]
     },
     "execution_count": 159,
     "metadata": {},
     "output_type": "execute_result"
    },
    {
     "data": {
      "image/png": "[encoded data removed]",
      "text/plain": [
       "<Figure size 432x288 with 1 Axes>"
      ]
     },
     "metadata": {
      "needs_background": "light"
     },
     "output_type": "display_data"
    }
   ],
   "source": [
    "\n",
    "anio2021.Mes.plot.hist(edgecolor='black',color='Green')\n",
    "plt.title ('Empleabilidad en el año 2021',fontdict = font1)\n",
    "plt.xlabel('Meses', fontdict = font2)\n",
    "plt.ylabel('')\n",
    "plt.show"
   ]
  },
  {
   "cell_type": "code",
   "execution_count": 166,
   "id": "3107a1ef",
   "metadata": {},
   "outputs": [
    {
     "data": {
      "image/png": "[encoded data removed]",
      "text/plain": [
       "<Figure size 432x288 with 1 Axes>"
      ]
     },
     "metadata": {
      "needs_background": "light"
     },
     "output_type": "display_data"
    },
    {
     "data": {
      "text/plain": [
       "<Figure size 720x6480 with 0 Axes>"
      ]
     },
     "metadata": {},
     "output_type": "display_data"
    }
   ],
   "source": [
    "\n",
    "valor_por_ciudad = mdatos.groupby(\"Ciudad_Residencia\")[\"Situación_Laboral\"].count()\n",
    "valor_por_ciudad.head(20).plot.barh(edgecolor=\"black\",color=\"green\")\n",
    "plt.title(\"Beneficiarios por municipios\",fontdict=font1)\n",
    "plt.ylabel(\"Municipios\", fontdict= font2)\n",
    "plt.xlabel('Cantidad de beneficiarios 2020-2021',fontdict=font2)\n",
    "plt.figure(figsize=(10,90))\n",
    "\n",
    "plt.show()\n"
   ]
  }
 ],
 "metadata": {
  "kernelspec": {
   "display_name": "Python 3 (ipykernel)",
   "language": "python",
   "name": "python3"
  },
  "language_info": {
   "codemirror_mode": {
    "name": "ipython",
    "version": 3
   },
   "file_extension": ".py",
   "mimetype": "text/x-python",
   "name": "python",
   "nbconvert_exporter": "python",
   "pygments_lexer": "ipython3",
   "version": "3.9.7"
  }
 },
 "nbformat": 4,
 "nbformat_minor": 5
}
