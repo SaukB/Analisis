{
  "cells": [
    {
      "cell_type": "code",
      "execution_count": 2,
      "metadata": {},
      "outputs": [],
      "source": [
        "import dash\n",
        "import dash_core_components as dcc\n",
        "import dash_html_components as html\n",
        "from dash.dependencies import Input, Output\n",
        "import plotly.express as px\n",
        "import numpy as np\n",
        "\n",
        "np.random.seed(2020)\n",
        "\n",
        "app = dash.Dash(__name__)\n",
        "\n",
        "app.layout = html.Div([\n",
        "    dcc.Graph(id=\"graph\"),\n",
        "    html.P(\"Mean:\"),\n",
        "    dcc.Slider(id=\"mean\", min=-3, max=3, value=0, \n",
        "               marks={-3: '-3', 3: '3'}),\n",
        "    html.P(\"Standard Deviation:\"),\n",
        "    dcc.Slider(id=\"std\", min=1, max=3, value=1, \n",
        "               marks={1: '1', 3: '3'}),\n",
        "])\n",
        "\n",
        "@app.callback(\n",
        "    Output(\"graph\", \"figure\"), \n",
        "    [Input(\"mean\", \"value\"), \n",
        "     Input(\"std\", \"value\")])\n",
        "def display_color(mean, std):\n",
        "    data = np.random.normal(mean, std, size=500)\n",
        "    fig = px.histogram(data, nbins=30, range_x=[-10, 10])\n",
        "    return fig\n",
        "\n",
        "app.run_server(debug=True)"
      ]
    }
  ],
  "metadata": {
    "kernelspec": {
      "display_name": "Python 3",
      "language": "python",
      "name": "python3"
    },
    "language_info": {
      "codemirror_mode": {
        "name": "ipython",
        "version": 3
      },
      "file_extension": ".py",
      "mimetype": "text/x-python",
      "name": "python",
      "nbconvert_exporter": "python",
      "pygments_lexer": "ipython3",
      "version": "3.9.7"
    }
  },
  "nbformat": 4,
  "nbformat_minor": 0
}
