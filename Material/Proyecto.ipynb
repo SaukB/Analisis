{
 "cells": [
  {
   "cell_type": "markdown",
   "id": "4f9c71a3",
   "metadata": {},
   "source": [
    "Primer empleo"
   ]
  },
  {
   "cell_type": "code",
   "execution_count": null,
   "id": "709694c0",
   "metadata": {},
   "outputs": [],
   "source": [
    "import numpy \n",
    "import pandas as pd\n",
    "import matplotlib.pyplot as plt\n",
    "import seaborn as sns \n",
    "from tabulate import tabulate\n",
    "#from sodapy import Socrata\n",
    "from xlsxwriter import Workbook\n",
    "\n",
    "plt.figure(figsize=(15,30))\n",
    "import warnings\n",
    "warnings.filterwarnings('ignore')\n",
    "%matplotlib inline \n",
    "path=r'Datos.xlsx'\n",
    "\n",
    "font1 = {'family':'Comic Sans MS','size':20}\n",
    "font2 = {'family':'Comic Sans MS','size':15}"
   ]
  },
  {
   "cell_type": "code",
   "execution_count": null,
   "id": "33c6d2de",
   "metadata": {},
   "outputs": [],
   "source": [
    "# Cargue y lectura de los datos"
   ]
  },
  {
   "cell_type": "code",
   "execution_count": null,
   "id": "bc04c2f0",
   "metadata": {},
   "outputs": [],
   "source": [
    "data = pd.read_csv('empleo.csv')"
   ]
  },
  {
   "cell_type": "markdown",
   "id": "b8488c6c",
   "metadata": {},
   "source": [
    "# Encabezado de datos"
   ]
  },
  {
   "cell_type": "code",
   "execution_count": null,
   "id": "365b0874",
   "metadata": {},
   "outputs": [],
   "source": [
    "data.head()"
   ]
  },
  {
   "cell_type": "markdown",
   "id": "30913e6d",
   "metadata": {},
   "source": [
    "# ver valores nulos"
   ]
  },
  {
   "cell_type": "code",
   "execution_count": null,
   "id": "d2c43358",
   "metadata": {},
   "outputs": [],
   "source": [
    "data.isnull().sum()"
   ]
  },
  {
   "cell_type": "markdown",
   "id": "dedc80a4",
   "metadata": {},
   "source": [
    "# Encontrar quienes estan en primer empleo en la base de datos\n"
   ]
  },
  {
   "cell_type": "code",
   "execution_count": null,
   "id": "faff0a6f",
   "metadata": {},
   "outputs": [],
   "source": [
    "data['Situación Laboral']=='Primer Empleo'"
   ]
  },
  {
   "cell_type": "markdown",
   "id": "01631ccb",
   "metadata": {},
   "source": [
    "# verificando la informacion"
   ]
  },
  {
   "cell_type": "code",
   "execution_count": null,
   "id": "f4ce24e0",
   "metadata": {},
   "outputs": [],
   "source": [
    "data[data['Situación Laboral']=='Primer Empleo']"
   ]
  },
  {
   "cell_type": "markdown",
   "id": "877bd075",
   "metadata": {},
   "source": [
    "# Creando nuevo dataframe"
   ]
  },
  {
   "cell_type": "code",
   "execution_count": null,
   "id": "eb69d1b1",
   "metadata": {},
   "outputs": [],
   "source": [
    "newdata=data.copy"
   ]
  },
  {
   "cell_type": "markdown",
   "id": "ccd97a55",
   "metadata": {},
   "source": [
    "#Guardando datos filtrados en el nuevo dataframe "
   ]
  },
  {
   "cell_type": "code",
   "execution_count": null,
   "id": "1f46f591",
   "metadata": {},
   "outputs": [],
   "source": [
    "ndata=data[data['Situación Laboral']=='Primer Empleo']"
   ]
  },
  {
   "cell_type": "markdown",
   "id": "0a2d3057",
   "metadata": {},
   "source": [
    "Renombrar encabezados"
   ]
  },
  {
   "cell_type": "code",
   "execution_count": null,
   "id": "242ce079",
   "metadata": {},
   "outputs": [],
   "source": [
    "mdatos =ndata.rename (columns={\n",
    "    \"Tipo Documento\" :\"Tipo_Documento\",\n",
    "    \"Canal de Registro\":\"Canal_Registro\",\n",
    "    \"Edad\":\"Edad\",\n",
    "    'Género': 'Genero',\n",
    "    \"Nivel de Estudio\": \"Nivel_Estudio\",\n",
    "    'Título Homologado' :'Titulo_Homologado',\n",
    "    'Ciudad de Residencia':'Ciudad_Residencia',\n",
    "    'Fecha Registro':'Fecha_Registro',\n",
    "    'Programa de Gobierno':'Programa_Gobierno',\n",
    "    'Condiciones Especiales':'Condiciones_Especiales',\n",
    "    'Situación Laboral':'Situación_Laboral',\n",
    "    'Fecha Actualización':'Fecha_Actualizacion',\n",
    "    'Zona':'Zona',\n",
    "    'Mes':'Mes',\n",
    "    'Año':\"anio\",\n",
    "    'Punto Atención':'Punto_Atencion',\n",
    "    'Rango Edad':'Rango_Edad'\n",
    "})\n",
    "mdatos.columns"
   ]
  },
  {
   "cell_type": "markdown",
   "id": "b6fbd8f8",
   "metadata": {},
   "source": [
    "# creacion de dataframe para cada año de pandemia "
   ]
  },
  {
   "cell_type": "code",
   "execution_count": null,
   "id": "e1887752",
   "metadata": {},
   "outputs": [],
   "source": [
    "anio2021=mdatos[mdatos['anio']==\"2,021\"]\n",
    "anio2020=mdatos[mdatos['anio']==\"2,020\"]\n",
    "anio2021"
   ]
  },
  {
   "cell_type": "markdown",
   "id": "f59b1c1d",
   "metadata": {},
   "source": [
    "Guardar en xlsx"
   ]
  },
  {
   "cell_type": "code",
   "execution_count": null,
   "id": "a8a129e4",
   "metadata": {},
   "outputs": [],
   "source": [
    "'''writer = pd.ExcelWriter(path, engine = 'xlsxwriter')\n",
    "ndata.to_excel(writer, sheet_name = 'Dframe')\n",
    "writer.save()\n",
    "writer.close()\n",
    "\n",
    "print(ndata.columns)'''"
   ]
  },
  {
   "cell_type": "markdown",
   "id": "21cd6900",
   "metadata": {},
   "source": [
    "En la grafica anterior podemos apreciar que el numero de mujeres atendidas y consuguieron empleo estos dos ultimos años fue mayor al numero de hombres  ."
   ]
  },
  {
   "cell_type": "code",
   "execution_count": null,
   "id": "22135d92",
   "metadata": {},
   "outputs": [],
   "source": [
    "valor_porcarrera = mdatos.groupby(\"Nivel_Estudio\")[\"Tipo_Documento\"].count()\n",
    "valor_porcarrera.head(20).plot.barh(edgecolor='black',figsize=(18,8),color=\"teal\")\n",
    "plt.grid(axis=\"x\")\n",
    "plt.show()"
   ]
  },
  {
   "cell_type": "markdown",
   "id": "bc93811a",
   "metadata": {},
   "source": [
    "Grafico de personas empleadass organizadass por su nivel de estudios , se encuntra agrupada con la informacion de estos dos ultimos años de pandemia (2020 - 2021)"
   ]
  },
  {
   "cell_type": "markdown",
   "id": "2d4173d3",
   "metadata": {},
   "source": [
    "# Grafica de porcentaje por Genero"
   ]
  },
  {
   "cell_type": "code",
   "execution_count": null,
   "id": "df11a233",
   "metadata": {},
   "outputs": [],
   "source": [
    "colors = ['#F7D358','#0B3861']\n",
    "colors1=['#53A9A3','#97367A']\n",
    "fig, (ax1, ax2) = plt.subplots(1,2, figsize =(18,8))\n",
    "anio2020['Genero'].value_counts().plot.pie(ax =ax1,explode =[0,0.1],  shadow =True,startangle=90,colors=colors)\n",
    "ax1.set_title('Atencion por año 2020',fontdict= font1)\n",
    "plt.show\n",
    "anio2021['Genero'].value_counts().plot.pie(ax =ax2,explode =[0,0.1], shadow =True,startangle=90,colors=colors)\n",
    "ax2.set_title('Atencion por  Genero 2021',fontdict= font1)\n",
    "plt.show\n",
    "mdatos.groupby([\"anio\",\"Genero\"])[\"Situación_Laboral\"].count() "
   ]
  },
  {
   "cell_type": "code",
   "execution_count": null,
   "id": "8910fc44",
   "metadata": {},
   "outputs": [],
   "source": [
    "mdatos.Genero.value_counts().plot.pie(explode =[0,0.1] , shadow =True,startangle=90,  figsize =(18,8), colors=colors)\n",
    "plt.title('Contratacion por Genero',fontdict= font1)\n",
    "plt.show()\n",
    "mdatos.groupby([\"Genero\"])[\"Situación_Laboral\"].count()"
   ]
  },
  {
   "cell_type": "code",
   "execution_count": null,
   "id": "b15f7111",
   "metadata": {},
   "outputs": [],
   "source": [
    "Programa = mdatos.groupby(\"Rango_Edad\")[\"Situación_Laboral\"].count()\n",
    "Programa.head(7).plot.barh(edgecolor=\"black\",color=\"#5999B3\",  figsize =(18,8))\n",
    "plt.grid(axis=\"x\",color=\"white\")\n",
    "plt.title(\"Beneficiarios por edad\",fontdict=font1)\n",
    "plt.ylabel(\"Rango de edades\", fontdict= font2)\n",
    "plt.xlabel('Cantidad beneficiarios',fontdict=font2)\n",
    "plt.figure( figsize =(18,8))\n",
    "plt.show()\n",
    "\n",
    "f, ax =plt.subplots(1,2 , figsize=(18,8))\n",
    "#f, ax =plt.subplots(1,2,figsize=(18,8))\n",
    "Programa = anio2020.groupby(\"Rango_Edad\")[\"Situación_Laboral\"].count()\n",
    "Programa.head(7).plot.barh(edgecolor=\"black\",color=\"#5999B3\",  figsize =(18,8), ax=ax[0])\n",
    "ax[0].grid(axis=\"x\",color=\"white\")\n",
    "ax[0].set_title(\"Beneficiarios por edad año 2020\",fontdict=font1)\n",
    "ax[0].set_ylabel(\"Rango de edades\", fontdict= font2)\n",
    "ax[0].set_xlabel('Cantidad beneficiarios',fontdict=font2)\n",
    "\n",
    "Programa = anio2021.groupby(\"Rango_Edad\")[\"Situación_Laboral\"].count()\n",
    "Programa.head(7).plot.barh(edgecolor=\"black\",color=\"#5999B3\",  figsize =(18,8), ax=ax[1])\n",
    "ax[1].grid(axis=\"x\",color=\"white\")\n",
    "ax[1].set_title(\"Beneficiarios por edad año 2020\",fontdict=font1)\n",
    "ax[1].set_ylabel(\"Rango de edades\", fontdict= font2)\n",
    "ax[1].set_xlabel('Cantidad beneficiarios',fontdict=font2)\n",
    "plt.show()\n"
   ]
  },
  {
   "cell_type": "markdown",
   "id": "d516f1fe",
   "metadata": {},
   "source": [
    "# Histograma por año 2020 y 2021 sobre personas contratadas durante cada mes de cada año"
   ]
  },
  {
   "cell_type": "code",
   "execution_count": null,
   "id": "4d224229",
   "metadata": {},
   "outputs": [],
   "source": [
    "colors = ['#F7D358','#0B3861']\n",
    "f , ax =plt.subplots(1,2,figsize=(30,10))\n",
    "anio2020.Mes.plot.hist(edgecolor='white',color='#F7D358',ax=ax[0],)\n",
    "anio2021.Mes.plot.hist(edgecolor='white',color='#0B3861',ax=ax[1])\n",
    "ax[0].set_title ('Empleabilidad en el año 2020',fontdict = font1)\n",
    "ax[0].set_xlabel('Meses', fontdict = font2)\n",
    "ax[0].set_ylabel('')\n",
    "ax[0].grid(axis=\"y\", color=\"black\")\n",
    "ax[1].set_title ('Empleabilidad en el año 2021',fontdict = font1)\n",
    "ax[1].set_xlabel('Meses', fontdict = font2)\n",
    "ax[1].grid(axis=\"y\", color=\"black\")\n",
    "plt.show\n",
    "\n",
    "plt.figure(figsize=(30,10))\n",
    "sns.histplot(data=anio2021 , x=\"Mes\" ,color=\"#0B3861\", kde=True, label=\"Año 2021\",edgecolor='white')\n",
    "sns.histplot(data=anio2020 , x=\"Mes\",color=\"#F7D358\", kde=True, label=\"Año 2020\",edgecolor='white')\n",
    "plt.title(\"Empleabilidad años 2020-2021\", font=font1)\n",
    "plt.legend() \n",
    "plt.grid(axis=\"y\")\n",
    "plt.show()"
   ]
  },
  {
   "cell_type": "code",
   "execution_count": null,
   "id": "5bb6a01b",
   "metadata": {},
   "outputs": [],
   "source": [
    "\"\"\"plt.figure(figsize=(10,5))\n",
    "plt.bar(anio2021.Rango_Edad  ,anio2021.Edad)\n",
    "plt.title('Rango de edad')\n",
    "ax = plt.subplot()  # Axis\n",
    "ax.set_xlabel('Género')\n",
    "ax.set_ylabel('Poblacion')\n",
    "plt.show()\"\"\""
   ]
  },
  {
   "cell_type": "code",
   "execution_count": null,
   "id": "3107a1ef",
   "metadata": {},
   "outputs": [],
   "source": [
    "plt.figure(figsize=(10,5))\n",
    "valor_por_ciudad = mdatos.groupby(\"Ciudad_Residencia\")[\"Situación_Laboral\"].count()\n",
    "valor_por_ciudad.head(20).plot.barh(edgecolor=\"black\",color=\"teal\")\n",
    "plt.title(\"Beneficiarios por municipios\",fontdict=font1)\n",
    "plt.grid(axis=\"x\", color=\"white\")\n",
    "plt.ylabel(\"Municipios\", fontdict= font2)\n",
    "plt.xlabel('Cantidad de beneficiarios 2020-2021',fontdict=font2)\n",
    "plt.figure( figsize =(18,8))\n",
    "plt.show()\n"
   ]
  },
  {
   "cell_type": "code",
   "execution_count": null,
   "id": "fb61d3fa",
   "metadata": {},
   "outputs": [],
   "source": [
    "NB1=mdatos[mdatos['Ciudad_Residencia']!=\"BARRANQUILLA\"]"
   ]
  },
  {
   "cell_type": "code",
   "execution_count": null,
   "id": "076539ba",
   "metadata": {},
   "outputs": [],
   "source": [
    "NB2=NB1[mdatos['Ciudad_Residencia']!=\"SOLEDAD\"]\n",
    "f , ax =plt.subplots(1,2,figsize=(30,10))\n",
    "valor_por_ciudad = NB1.groupby(\"Ciudad_Residencia\")[\"Situación_Laboral\"].count()\n",
    "valor_por_ciudad.head(20).plot.barh(edgecolor=\"black\",color=\"#F7D358\",ax=ax[0])\n",
    "ax[0].set_title(\"Beneficiarios por municipios sin barranquilla\",fontdict=font1)\n",
    "ax[0].set_ylabel(\"Municipios\", fontdict= font2)\n",
    "ax[0].set_xlabel('Cantidad de beneficiarios 2020-2021',fontdict=font2)\n",
    "ax[0].grid(axis=\"x\", color=\"white\")\n",
    "\n",
    "valor_por_ciudad2 = NB2.groupby(\"Ciudad_Residencia\")[\"Situación_Laboral\"].count()\n",
    "valor_por_ciudad2.head(20).plot.barh(edgecolor=\"black\",color=\"seagreen\",ax=ax[1])\n",
    "ax[1].set_title(\"Beneficiarios por municipios sin soledad\",fontdict=font1)\n",
    "ax[1].set_ylabel(\"Municipios\", fontdict= font2)\n",
    "ax[1].grid(axis=\"x\", color=\"white\")\n",
    "\n",
    "plt.xlabel('Cantidad de beneficiarios 2020-2021',fontdict=font2)\n",
    "plt.show()"
   ]
  },
  {
   "cell_type": "code",
   "execution_count": null,
   "id": "d26fe29d",
   "metadata": {},
   "outputs": [],
   "source": [
    "tabl1=mdatos.groupby([\"Ciudad_Residencia\"])[\"Situación_Laboral\"].count()"
   ]
  },
  {
   "cell_type": "code",
   "execution_count": null,
   "id": "029f7f89",
   "metadata": {},
   "outputs": [],
   "source": [
    "print(tabulate(tabl1.head, headers='keys', tablefmt='fancy_grid',))\n",
    "#tabl1.head"
   ]
  }
 ],
 "metadata": {
  "kernelspec": {
   "display_name": "Python 3 (ipykernel)",
   "language": "python",
   "name": "python3"
  },
  "language_info": {
   "codemirror_mode": {
    "name": "ipython",
    "version": 3
   },
   "file_extension": ".py",
   "mimetype": "text/x-python",
   "name": "python",
   "nbconvert_exporter": "python",
   "pygments_lexer": "ipython3",
   "version": "3.9.7"
  }
 },
 "nbformat": 4,
 "nbformat_minor": 5
}
